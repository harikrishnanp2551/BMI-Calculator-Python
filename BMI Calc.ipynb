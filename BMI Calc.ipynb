{
 "cells": [
  {
   "cell_type": "code",
   "execution_count": 8,
   "id": "03316cf2",
   "metadata": {},
   "outputs": [
    {
     "name": "stdout",
     "output_type": "stream",
     "text": [
      "Enter you name: Hari\n",
      "Enter your weight in kgs:    78\n",
      "Enter your height in meters:    1.8\n",
      "24.074074074074073\n",
      "Hari, You are in the normal range\n"
     ]
    }
   ],
   "source": [
    "name = input(\"Enter you name: \")\n",
    "weight = int(input(\"Enter your weight in kgs:    \"))\n",
    "height = float(input(\"Enter your height in meters:    \"))\n",
    "\n",
    "BMI = (weight)/(height*height)\n",
    "\n",
    "print(BMI)\n",
    "\n",
    "if BMI>0:\n",
    "    if(BMI<18.5):\n",
    "        print(name +\", You are underweight\")\n",
    "    elif(BMI<=24.9):\n",
    "        print(name +\", You are in the normal range\")\n",
    "    elif(BMI<=29.9):\n",
    "        print(name +\", You are in the overweight range\")\n",
    "    elif(BMI<34.9):\n",
    "        print(name +\", You are in the Obese category\")\n",
    "    elif(BMI<34.9):\n",
    "        print(name +\", You are in the Severely Obese category\")\n",
    "    else:\n",
    "        print(name +\", You are in the Morbidly Obese category\")"
   ]
  },
  {
   "cell_type": "code",
   "execution_count": null,
   "id": "1f7873d6",
   "metadata": {},
   "outputs": [],
   "source": []
  },
  {
   "cell_type": "code",
   "execution_count": null,
   "id": "380f278c",
   "metadata": {},
   "outputs": [],
   "source": []
  },
  {
   "cell_type": "code",
   "execution_count": null,
   "id": "4561658e",
   "metadata": {},
   "outputs": [],
   "source": []
  },
  {
   "cell_type": "code",
   "execution_count": null,
   "id": "78428867",
   "metadata": {},
   "outputs": [],
   "source": [
    "if BMI>0:\n",
    "    if(BMI<18.5):\n",
    "        print(name +\"You are underweight\")\n",
    "    elif(BMI<=24.9):\n",
    "        print(name +\"You are in the normal range\")\n",
    "    elif(BMI<=29.9):\n",
    "        print(name +\"You are in the overweight range\")\n",
    "    elif(BMI<34.9):\n",
    "        print(name +\"You are in the Obese category\")\n",
    "    elif(BMI<34.9):\n",
    "        print(name +\"You are in the Severely Obese category\")\n",
    "    else:\n",
    "        print(name +\"You are in the Morbidly Obese category\")"
   ]
  },
  {
   "cell_type": "code",
   "execution_count": null,
   "id": "8d5e76b2",
   "metadata": {},
   "outputs": [],
   "source": []
  },
  {
   "cell_type": "code",
   "execution_count": null,
   "id": "119ffbf4",
   "metadata": {},
   "outputs": [],
   "source": []
  },
  {
   "cell_type": "code",
   "execution_count": null,
   "id": "bed04d64",
   "metadata": {},
   "outputs": [],
   "source": []
  }
 ],
 "metadata": {
  "kernelspec": {
   "display_name": "Python 3 (ipykernel)",
   "language": "python",
   "name": "python3"
  },
  "language_info": {
   "codemirror_mode": {
    "name": "ipython",
    "version": 3
   },
   "file_extension": ".py",
   "mimetype": "text/x-python",
   "name": "python",
   "nbconvert_exporter": "python",
   "pygments_lexer": "ipython3",
   "version": "3.9.13"
  }
 },
 "nbformat": 4,
 "nbformat_minor": 5
}
